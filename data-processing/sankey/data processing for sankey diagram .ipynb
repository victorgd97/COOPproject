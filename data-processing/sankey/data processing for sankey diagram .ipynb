{
 "cells": [
  {
   "cell_type": "markdown",
   "id": "ahead-sunglasses",
   "metadata": {},
   "source": [
    "4. Canalització\n",
    "- Which kind of actors are the leaders of the project? (com es canalitzen els recursos, per tipus d’actor?)\n",
    "- Which typology of projects are doing the actors? (com els canalitzen els diferents agents, per tipologies?)"
   ]
  },
  {
   "cell_type": "markdown",
   "id": "democratic-elements",
   "metadata": {},
   "source": [
    "#### Steps in Sankey\n",
    "\n",
    "GovLevel -> TipusActor -> Area -> Pais\n",
    "\n",
    "#### json structure\n",
    "\n",
    "`[2015, 2016, 2017, 2018]`\n",
    "\n",
    "each year\n",
    "\n",
    "`2015:{nodes:[{...}], links:[{...}]}`"
   ]
  },
  {
   "cell_type": "code",
   "execution_count": 1,
   "id": "comic-italy",
   "metadata": {},
   "outputs": [],
   "source": [
    "import pandas as pd\n",
    "import numpy as np\n",
    "import json\n",
    "\n",
    "pd.options.display.max_columns = 2000 # remove ellipsis\n",
    "pd.options.display.max_rows = 2000 # remove ellipsis"
   ]
  },
  {
   "cell_type": "code",
   "execution_count": 2,
   "id": "quick-daily",
   "metadata": {},
   "outputs": [],
   "source": [
    "df = pd.read_csv('data/DataPross+Pop+Budgetv2.csv',encoding='latin1', decimal=\",\")\n",
    "#df_new = pd.read_excel('data/dataset cooperacio nomes Generalitat 2015-2018.xlsx')"
   ]
  },
  {
   "cell_type": "code",
   "execution_count": 38,
   "id": "fossil-tyler",
   "metadata": {},
   "outputs": [
    {
     "data": {
      "text/plain": [
       "array(['ONG', nan, 'Agent empresarial', 'Universitats', 'Diversos actors',\n",
       "       'Administracions catalanes', 'Centre de recerca',\n",
       "       'Federacions i coordinadores', 'Administracions del Sud',\n",
       "       'Multilaterals'], dtype=object)"
      ]
     },
     "execution_count": 38,
     "metadata": {},
     "output_type": "execute_result"
    }
   ],
   "source": [
    "df['TipusActor'].unique()"
   ]
  },
  {
   "cell_type": "code",
   "execution_count": 28,
   "id": "stunning-volleyball",
   "metadata": {},
   "outputs": [],
   "source": [
    "# GovLevel -> TipusActor -> Area -> Pais\n",
    "\n",
    "def pivoting(year):\n",
    "    df2 = df[['Any', 'GovLevel', 'TipusActor', 'Area' ,'Pais' , 'Subvenció']].dropna(how='all')\n",
    "    df2['TipusActor'] = df2['TipusActor'].fillna('Unknown_TipusActor')\n",
    "    df2['Area'] = df2['Area'].fillna('Unknown_Area')\n",
    "    \n",
    "    df3 = df2[df2['Any']==year]\n",
    "    \n",
    "    table = pd.pivot_table(df3, values=['Subvenció'], index=['GovLevel', 'TipusActor'],\n",
    "                    aggfunc={'Subvenció': np.sum}).reset_index()\n",
    "    table2= pd.pivot_table(df3, values=['Subvenció'], index=['TipusActor', 'Area'],\n",
    "                    aggfunc={'Subvenció': np.sum}).reset_index()\n",
    "    table3= pd.pivot_table(df3, values=['Subvenció'], index=['Area', 'Pais'],\n",
    "                aggfunc={'Subvenció': np.sum}).reset_index()\n",
    "\n",
    "    return([table, table2, table3])\n",
    "\n",
    "\n",
    "# Duplicating Area and Pais, add * at the end of Pais  \n",
    "# helper func1\n",
    "def area_pais_checking(table):\n",
    "    comparison_column = np.where(table.iloc[:, 0] == table.iloc[:, 1], True, False)\n",
    "    table[\"equal\"] = comparison_column\n",
    "    return table\n",
    "# helper func2\n",
    "def duplication_mark(row):\n",
    "    if row['equal'] == True or row['Pais'] == 'Sense Dades' or row['Pais'] == 'Global':\n",
    "        return row['Pais'] + \"*\"\n",
    "    else: \n",
    "        return row['Pais']\n",
    "    \n",
    "def area_pais(t):\n",
    "    t= area_pais_checking(t)\n",
    "    t['Pais'] = t.apply(duplication_mark, axis=1)\n",
    "    t = t.drop('equal', 1)\n",
    "    return t\n",
    "\n",
    "def ordered_unique_nodes(table_list): \n",
    "    p = table_list[2].sort_values(['Area', 'Subvenció'], ascending=[True, False])\n",
    "    pais_order = list(p['Pais'].unique())\n",
    "    area_order = list(p['Area'].unique())\n",
    "    tipus = list(table_list[1]['TipusActor'].unique())\n",
    "    govlevel_order = ['Gene', 'Province', 'Region', 'Municipal']\n",
    "    nodes_list = govlevel_order + tipus + area_order + pais_order \n",
    "    return nodes_list\n",
    "\n",
    "def nodelink(table_list):\n",
    "    t1 = table_list[0].rename(columns={\"GovLevel\": \"source\", \n",
    "                               \"TipusActor\": \"target\", \n",
    "                               \"Subvenció\": \"value\"})\n",
    "    \n",
    "    t2 = table_list[1].rename(columns={\"TipusActor\": \"source\", \n",
    "                                \"Area\": \"target\", \n",
    "                                \"Subvenció\": \"value\"})\n",
    "    \n",
    "    t3 = table_list[2].sort_values(['Area', 'Subvenció'], ascending=[True, False])\n",
    "    \n",
    "    \n",
    "    t3 = t3.rename(columns={\"Area\": \"source\", \n",
    "                                \"Pais\": \"target\", \n",
    "                                \"Subvenció\": \"value\"})\n",
    "\n",
    "    links = pd.concat([t1, t2, t3], ignore_index=True)\n",
    "    result = links.to_json(orient=\"records\")\n",
    "    parsed_links = json.loads(result)\n",
    "    \n",
    "    \n",
    "#     nodes = list(links['target'].unique()) + list(links['source'].unique())\n",
    "#     nodes_list = list(set(nodes)) \n",
    "    \n",
    "    nodes_list = ordered_unique_nodes(table_list)\n",
    "    \n",
    "    nodes_df = pd.DataFrame(nodes_list, columns = [\"id\"])\n",
    "    result = nodes_df.to_json(orient=\"records\")\n",
    "    parsed_nodes = json.loads(result)\n",
    "\n",
    "    d = { \"nodes\": parsed_nodes, \"links\": parsed_links }\n",
    "    \n",
    "    return d "
   ]
  },
  {
   "cell_type": "code",
   "execution_count": 29,
   "id": "saved-diversity",
   "metadata": {},
   "outputs": [],
   "source": [
    "def json_creator(year):\n",
    "    table_list = pivoting(year)\n",
    "    table_list[2] = area_pais(table_list[2])\n",
    "    return nodelink(table_list)"
   ]
  },
  {
   "cell_type": "code",
   "execution_count": 34,
   "id": "seeing-prescription",
   "metadata": {},
   "outputs": [],
   "source": [
    "data_area = {\"2015\":json_creator(2015), \"2016\":json_creator(2016), \"2017\":json_creator(2017), \"2018\":json_creator(2018)}"
   ]
  },
  {
   "cell_type": "code",
   "execution_count": 35,
   "id": "retained-fusion",
   "metadata": {},
   "outputs": [],
   "source": [
    "with open(\"output/data_new.json\", \"w\") as outfile: \n",
    "    json.dump(data_area, outfile)"
   ]
  },
  {
   "cell_type": "code",
   "execution_count": 372,
   "id": "handed-corps",
   "metadata": {},
   "outputs": [],
   "source": [
    "with open(\"output/data2015.json\", \"w\") as outfile: \n",
    "    json.dump(data_area['2015'], outfile)"
   ]
  },
  {
   "cell_type": "code",
   "execution_count": 373,
   "id": "promising-artist",
   "metadata": {},
   "outputs": [],
   "source": [
    "with open(\"output/data2018.json\", \"w\") as outfile: \n",
    "    json.dump(data_area['2018'], outfile)"
   ]
  },
  {
   "cell_type": "code",
   "execution_count": null,
   "id": "smart-lyric",
   "metadata": {},
   "outputs": [],
   "source": []
  }
 ],
 "metadata": {
  "kernelspec": {
   "display_name": "Python 3",
   "language": "python",
   "name": "python3"
  },
  "language_info": {
   "codemirror_mode": {
    "name": "ipython",
    "version": 3
   },
   "file_extension": ".py",
   "mimetype": "text/x-python",
   "name": "python",
   "nbconvert_exporter": "python",
   "pygments_lexer": "ipython3",
   "version": "3.9.1"
  }
 },
 "nbformat": 4,
 "nbformat_minor": 5
}
